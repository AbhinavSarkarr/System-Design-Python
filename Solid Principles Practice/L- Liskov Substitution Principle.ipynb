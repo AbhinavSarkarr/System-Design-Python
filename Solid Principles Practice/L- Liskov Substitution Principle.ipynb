{
 "cells": [
  {
   "cell_type": "markdown",
   "id": "723451dc",
   "metadata": {},
   "source": [
    "#### Liskov Substitution Principle \n",
    "\n",
    "This principle states that if you have some interface that takes some sort of base class, you should be able to stick a derived class in there and everything should work. "
   ]
  },
  {
   "cell_type": "code",
   "execution_count": 6,
   "id": "cbc7a9af",
   "metadata": {},
   "outputs": [
    {
     "name": "stdout",
     "output_type": "stream",
     "text": [
      "Expected: 20 but got 20\n"
     ]
    }
   ],
   "source": [
    "class Rectangle:\n",
    "    def __init__(self, width, height):\n",
    "        self._height = height\n",
    "        self._width = width\n",
    "\n",
    "    @property\n",
    "    def width(self):\n",
    "        return self._width\n",
    "    \n",
    "    @width.setter\n",
    "    def width(self, value):\n",
    "        self._width = value\n",
    "\n",
    "    @property \n",
    "    def height(self):\n",
    "        return self._height\n",
    "    \n",
    "    @height.setter\n",
    "    def height(self, value):\n",
    "        self._height = value\n",
    "\n",
    "    @property\n",
    "    def area(self):\n",
    "        return self._width * self._height\n",
    "\n",
    "    def __str__(self):\n",
    "        return f'Height: {self.height}, Width: {self.width}' \n",
    "\n",
    "\n",
    "def use_it(rc):\n",
    "    w = rc.width\n",
    "    rc.height = 10\n",
    "    expected = w*10\n",
    "    print(f'Expected: {expected} but got {rc.area}')\n",
    "\n",
    "rc = Rectangle(2,3)\n",
    "\n",
    "use_it(rc)\n",
    "\n",
    "    "
   ]
  },
  {
   "cell_type": "markdown",
   "id": "ad77ed5f",
   "metadata": {},
   "source": [
    "Now lets make a new class Square which will inherit from rectangle "
   ]
  },
  {
   "cell_type": "code",
   "execution_count": null,
   "id": "7d4d9d6f",
   "metadata": {},
   "outputs": [
    {
     "name": "stdout",
     "output_type": "stream",
     "text": [
      "Expected: 50 but got 100\n"
     ]
    }
   ],
   "source": [
    "class Square(Rectangle):\n",
    "    def __init__(self, size):\n",
    "        Rectangle.__init__(self, size, size)\n",
    "\n",
    "    @Rectangle.width.setter\n",
    "    def width(self, value):\n",
    "        self._width = self._height = value\n",
    "    \n",
    "    @Rectangle.height.setter\n",
    "    def height(self, value):\n",
    "        self._width = self._height = value\n",
    "\n",
    "\n",
    "sq = Square(5)\n",
    "use_it(sq)       #voilates and gives wrong output "
   ]
  },
  {
   "cell_type": "code",
   "execution_count": null,
   "id": "8e46d050",
   "metadata": {},
   "outputs": [],
   "source": [
    "s"
   ]
  }
 ],
 "metadata": {
  "kernelspec": {
   "display_name": "Python 3",
   "language": "python",
   "name": "python3"
  },
  "language_info": {
   "codemirror_mode": {
    "name": "ipython",
    "version": 3
   },
   "file_extension": ".py",
   "mimetype": "text/x-python",
   "name": "python",
   "nbconvert_exporter": "python",
   "pygments_lexer": "ipython3",
   "version": "3.12.3"
  }
 },
 "nbformat": 4,
 "nbformat_minor": 5
}
