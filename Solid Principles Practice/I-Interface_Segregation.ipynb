{
 "cells": [
  {
   "cell_type": "markdown",
   "id": "639ee2d1",
   "metadata": {},
   "source": [
    "#### Interface Segregation\n",
    "\n",
    "The idea is that you don't want to stick too many methods into a single interface \n",
    "\n",
    "It might seem to be a good way to define a very big interface with a lot of methods in it, and let your clients implements them \n",
    "\n",
    "But that is not actually a good idea. "
   ]
  },
  {
   "cell_type": "code",
   "execution_count": 1,
   "id": "928c901f",
   "metadata": {},
   "outputs": [],
   "source": [
    "class Machine:\n",
    "\n",
    "    def print(self, document):\n",
    "        raise NotImplementedError\n",
    "    \n",
    "    def fax(self, document):\n",
    "        raise NotImplementedError\n",
    "    \n",
    "    def scan(self, document):\n",
    "        raise NotImplementedError\n",
    "    \n",
    "\n",
    "class MultifucntionPrinter(Machine):\n",
    "    def print(self, document):\n",
    "        pass\n",
    "    \n",
    "    def fax(self, document):\n",
    "        pass\n",
    "    \n",
    "    def scan(self, document):\n",
    "        pass\n",
    "\n",
    "#till now it is ok the Multifunctionprinter class used the interface Machine and implement all its methods \n",
    "\n",
    "\n",
    "#but now the problem will be here \n",
    "class OldFashionPrinter(Machine):\n",
    "    def print(self, document):  #this is ok \n",
    "        pass\n",
    "    \n",
    "    def fax(self, document):  #old fashion do not have this option \n",
    "        pass\n",
    "    \n",
    "    def scan(self, document): #it also dont have this \n",
    "        pass\n",
    "\n",
    "\n",
    "#here now in this scenario, we can either leave the fax and scan as it is just with the pass \n",
    "#but the problem is wherver a user will use it they will still see the methods of fax and scan in this, and if they there will be nothing \n",
    "#or we can just raise the NotImplementedError(\"Print cannot scan\"), this way the people will get an error, this may be will be ok if they are writing a small code \n",
    "\n",
    "\n"
   ]
  },
  {
   "cell_type": "markdown",
   "id": "858a0cf9",
   "metadata": {},
   "source": [
    "So the solution to this will be keeping the interfaces granualar rather than creating a single large interface. An interface for may be each functionality "
   ]
  },
  {
   "cell_type": "code",
   "execution_count": null,
   "id": "73b1221f",
   "metadata": {},
   "outputs": [],
   "source": [
    "from abc import ABC, abstractmethod\n",
    "\n",
    "class Printer:\n",
    "    @abstractmethod\n",
    "    def print(self, document):\n",
    "        pass\n",
    "\n",
    "class Scanner:\n",
    "    @abstractmethod\n",
    "    def scan(self, document):\n",
    "        pass\n",
    "\n",
    "class Fax:\n",
    "    @abstractmethod\n",
    "    def fax(self, document):\n",
    "        pass\n",
    "\n",
    "\n",
    "\n",
    "class MyPrinter(Printer):\n",
    "    def print(self, document):\n",
    "        print(document)\n",
    "\n",
    "#we can use two interface\n",
    "class PhotoCopier(Printer, Scanner):\n",
    "    def print(self, document):\n",
    "        print(document)\n",
    "\n",
    "    def scan(self, document):\n",
    "        pass"
   ]
  }
 ],
 "metadata": {
  "kernelspec": {
   "display_name": "Python 3",
   "language": "python",
   "name": "python3"
  },
  "language_info": {
   "codemirror_mode": {
    "name": "ipython",
    "version": 3
   },
   "file_extension": ".py",
   "mimetype": "text/x-python",
   "name": "python",
   "nbconvert_exporter": "python",
   "pygments_lexer": "ipython3",
   "version": "3.12.3"
  }
 },
 "nbformat": 4,
 "nbformat_minor": 5
}
