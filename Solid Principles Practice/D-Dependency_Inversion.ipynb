{
 "cells": [
  {
   "cell_type": "markdown",
   "id": "ffa9278f",
   "metadata": {},
   "source": [
    "### Dependency Inversion Principle \n",
    "\n",
    "The DIP does not relate to the Dependency Injection \n",
    "\n",
    "DIP states that high classes or modules in your code should not directly depend on the low level modules, instead they should depend on **abstractions**. \n",
    "\n",
    "Now what do we mean by abstraction here, nothing just some sort of abstract class or class with abstract methods. \n",
    "\n",
    "So inshort you should just depend upon interfaces rather than concrete implementations, because that way we can swap one for the other. \n",
    "\n",
    "Lets understand with an example: "
   ]
  },
  {
   "cell_type": "code",
   "execution_count": null,
   "id": "49801c29",
   "metadata": {},
   "outputs": [
    {
     "name": "stdout",
     "output_type": "stream",
     "text": [
      "John is a parent of Jane\n",
      "John is a parent of Doe\n",
      "Research completed.\n"
     ]
    }
   ],
   "source": [
    "from enum import Enum\n",
    "\n",
    "class RelationshipType(Enum):\n",
    "    PARENT = 0\n",
    "    CHILD = 1\n",
    "    SIBLING = 2\n",
    "\n",
    "class Person:\n",
    "    def __init__(self, name):\n",
    "        self.name = name\n",
    "    \n",
    "\n",
    "#a low level module that stores all the relationships\n",
    "class Relationship:\n",
    "    def __init__(self):\n",
    "        self.relations = []\n",
    "    \n",
    "    def add_parent_child(self, parent, child):\n",
    "        self.relations.append((parent, child, RelationshipType.PARENT))\n",
    "        self.relations.append((child, parent, RelationshipType.CHILD))\n",
    "\n",
    "\n",
    "#now in order to break the DIP, we are going to first define a high level module that should not really care about the how the relationships are stored\n",
    "class Research:\n",
    "    def __init__(self, relationship):\n",
    "        relations = relationship.relations\n",
    "        for r in relations:\n",
    "            if r[0].name == \"John\" and r[2] == RelationshipType.PARENT:\n",
    "                print(f\"{r[0].name} is a parent of {r[1].name}\")\n",
    "\n",
    "parent = Person(\"John\")\n",
    "child1 = Person(\"Jane\")\n",
    "child2 = Person(\"Doe\")\n",
    "\n",
    "relationship = Relationship()\n",
    "relationship.add_parent_child(parent, child1)\n",
    "relationship.add_parent_child(parent, child2)\n",
    "\n",
    "research = Research(relationship)  # This will print \"John is a parent of Jane\" and \"John is a parent of Doe\"\n",
    "print(\"Research completed.\")\n"
   ]
  },
  {
   "cell_type": "markdown",
   "id": "0f42ec53",
   "metadata": {},
   "source": [
    "All the implementation seems ok, but there is a problem with the code, it is tightly coupled with the low level module <br>\n",
    "So if we want to change the way we store relationships, we will have to change the high level module as well.<br>\n",
    "This will happend because in this case the high lebvel module is accesing the internal storage mechanism of the low level module.<br>\n",
    "\n",
    "\n",
    "So how to tackel this situation? \n",
    "\n",
    "First we could define an interface for the low level module \n",
    "\n",
    "Remember the idea is that Research should not depend on the concrete implementation of the Relationships but it should depend on some sort of abstraction that can subsequently change "
   ]
  },
  {
   "cell_type": "code",
   "execution_count": null,
   "id": "2bbabaf2",
   "metadata": {},
   "outputs": [
    {
     "name": "stdout",
     "output_type": "stream",
     "text": [
      "John is a parent of Jane\n",
      "John is a parent of Doe\n",
      "Research completed.\n"
     ]
    }
   ],
   "source": [
    "from enum import Enum\n",
    "from abc import abstractmethod\n",
    "\n",
    "class RelationshipType(Enum):\n",
    "    PARENT = 0\n",
    "    CHILD = 1\n",
    "    SIBLING = 2\n",
    "\n",
    "class Person:\n",
    "    def __init__(self, name):\n",
    "        self.name = name\n",
    "    \n",
    "#new class \n",
    "class RelationshipBrowser:\n",
    "    @abstractmethod\n",
    "    def find_all_children_of(self, name):\n",
    "        pass\n",
    "\n",
    "#a low level module that stores all the relationships\n",
    "class Relationship(RelationshipBrowser):  #low level module that implements the RelationshipBrowser interface\n",
    "    def __init__(self):\n",
    "        self.relations = []\n",
    "    \n",
    "    def add_parent_child(self, parent, child):\n",
    "        self.relations.append((parent, child, RelationshipType.PARENT))\n",
    "        self.relations.append((child, parent, RelationshipType.CHILD))\n",
    "    \n",
    "    def find_all_children_of(self, name):\n",
    "        for r in self.relations:\n",
    "            if r[0].name == name and r[2] == RelationshipType.PARENT:\n",
    "                print(f\"{r[0].name} is a parent of {r[1].name}\")            #new implementation of the method that is now in the low level module, given in the interface RelationshipBrowser\n",
    "\n",
    "\n",
    "#now in order to break the DIP, we are going to first define a high level module that should not really care about the how the relationships are stored\n",
    "class Research:  #high level module     \n",
    "    # def __init__(self, relationship):\n",
    "    #     relations = relationship.relations\n",
    "        # for r in relations:\n",
    "        #     if r[0].name == \"John\" and r[2] == RelationshipType.PARENT:\n",
    "        #         print(f\"{r[0].name} is a parent of {r[1].name}\")              #this whole thing should be done in the low level module i.e. Relationship\n",
    "    def __init__(self, browser: RelationshipBrowser):\n",
    "        browser.find_all_children_of(\"John\")\n",
    "\n",
    "parent = Person(\"John\")\n",
    "child1 = Person(\"Jane\")\n",
    "child2 = Person(\"Doe\")\n",
    "\n",
    "relationship = Relationship()\n",
    "relationship.add_parent_child(parent, child1)\n",
    "relationship.add_parent_child(parent, child2)\n",
    "\n",
    "research = Research(relationship)  # This will print \"John is a parent of Jane\" and \"John is a parent of Doe\"\n",
    "print(\"Research completed.\")\n"
   ]
  },
  {
   "cell_type": "code",
   "execution_count": null,
   "id": "f6dd9e4c",
   "metadata": {},
   "outputs": [],
   "source": []
  }
 ],
 "metadata": {
  "kernelspec": {
   "display_name": "Python 3",
   "language": "python",
   "name": "python3"
  },
  "language_info": {
   "codemirror_mode": {
    "name": "ipython",
    "version": 3
   },
   "file_extension": ".py",
   "mimetype": "text/x-python",
   "name": "python",
   "nbconvert_exporter": "python",
   "pygments_lexer": "ipython3",
   "version": "3.12.3"
  }
 },
 "nbformat": 4,
 "nbformat_minor": 5
}
