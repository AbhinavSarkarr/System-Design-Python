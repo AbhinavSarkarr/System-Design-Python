{
 "cells": [
  {
   "cell_type": "markdown",
   "id": "4de24eea",
   "metadata": {},
   "source": [
    "#### S of Solid Principles \n",
    "SRP: Single Responsibility Principle <br>\n",
    "OR <br>\n",
    "SOC: Seperation of Concerns\n",
    "\n",
    "\n",
    "Which says that if you have a class that class should have its primary responsibility whatever it's meant to be doing and it should not take other responsibilities.\n",
    "\n",
    "\n",
    "For Example: \n",
    "\n",
    "Lets say we have a class Journal\n",
    "As you are making a journal, you are going to record your most initimate thought."
   ]
  },
  {
   "cell_type": "code",
   "execution_count": 7,
   "id": "25c11ce9",
   "metadata": {},
   "outputs": [
    {
     "name": "stdout",
     "output_type": "stream",
     "text": [
      "Journal Entries:\n",
      "1: I ate Poha today, it was very yummy.\n",
      "2: I think i need to revise my OOPS concepts \n"
     ]
    }
   ],
   "source": [
    "class Journal:\n",
    "    def __init__(self):\n",
    "        self.entries = []\n",
    "        self.count = 0 \n",
    "\n",
    "    def add_entries(self, thought):\n",
    "        self.count += 1\n",
    "        self.entries.append(f\"{self.count}: {thought}\")\n",
    "        self._reindex()\n",
    "\n",
    "    def remove_entries(self, index):\n",
    "        del self.entries[index]\n",
    "        self._reindex()\n",
    "    \n",
    "    def _reindex(self):     #_ before the method name just to show that this is a helper function and users of the class should not call it. As python dont have provate methods \n",
    "        #Reset numbering after every change\n",
    "        self.entries = [\n",
    "            f\"{i+1}: {t if ':' not in t else t.split(': ', 1)[-1]}\" \n",
    "            for i, t in enumerate(self.entries)\n",
    "    ]\n",
    "\n",
    "    def __str__(self):\n",
    "        return '\\n'.join(self.entries)\n",
    "    \n",
    "\n",
    "abhinav_journal = Journal()\n",
    "\n",
    "abhinav_journal.add_entries(\"I ate Poha today, it was very yummy.\")\n",
    "abhinav_journal.add_entries(\"Now I am learning System Design in my office\")\n",
    "abhinav_journal.add_entries(\"I think i need to revise my OOPS concepts \")\n",
    "\n",
    "abhinav_journal.remove_entries(1)\n",
    "\n",
    "print(f\"Journal Entries:\\n{abhinav_journal}\")\n"
   ]
  },
  {
   "cell_type": "markdown",
   "id": "50b6139d",
   "metadata": {},
   "source": [
    "So far so good as the class only responsibility is to maintain records by storing and manipulating them \n",
    "\n",
    "Now lets try to break the SRP principal by providing the class some out of scope methods "
   ]
  },
  {
   "cell_type": "code",
   "execution_count": null,
   "id": "1edb68a7",
   "metadata": {},
   "outputs": [],
   "source": [
    "class Journal:\n",
    "    def __init__(self):\n",
    "        self.entries = []\n",
    "        self.count = 0 \n",
    "\n",
    "    def add_entries(self, thought):\n",
    "        self.count += 1\n",
    "        self.entries.append(f\"{self.count}: {thought}\")\n",
    "        self._reindex()\n",
    "\n",
    "    def remove_entries(self, index):\n",
    "        del self.entries[index]\n",
    "        self._reindex()\n",
    "    \n",
    "    def _reindex(self):     #_ before the method name just to show that this is a helper function and users of the class should not call it. As python dont have provate methods \n",
    "        #Reset numbering after every change\n",
    "        self.entries = [\n",
    "            f\"{i+1}: {t if ':' not in t else t.split(': ', 1)[-1]}\" \n",
    "            for i, t in enumerate(self.entries)\n",
    "    ]\n",
    "\n",
    "    def __str__(self):\n",
    "        return '\\n'.join(self.entries)\n",
    "\n",
    "\n",
    "\n",
    "    #Now lets give some funtionalities here \n",
    "    def save(self, filename):\n",
    "        file = open(filename, 'w')\n",
    "        file.write(str(self))   #it will call the __str__ function of the class \n",
    "        file.close()\n",
    "\n",
    "    def load(self, filename):\n",
    "        pass\n",
    "\n",
    "    def load_from_web(self, uri):\n",
    "        pass\n"
   ]
  },
  {
   "cell_type": "markdown",
   "id": "904a7bfd",
   "metadata": {},
   "source": [
    "So the problem now with this class with the introduction of these new methods is that we have added a second responsibility to the journal class, now the jounal calss is not responsible for storing and manipulating the entries, but it's taking the responsibilty of persistance by provdiing the functionality of saving and loading the journal. \n",
    "\n",
    "This is a bad idea and is against the principals: \n",
    "If you think about a complete application where you have other types than journal, now each of them will have their own functionality of persistance(save and load) which is so much code repitition. Moreover lets say now you need to add a verification of data before saving and loading files, now with this approach you will have to go to each class persistance methods and make changes there, which is not good. \n",
    "\n",
    "<b>So instead of adding each class to have their persistance, create a seperate class which will be respobsible solely for persistance(saving and loading) following the SRP principles.<b> "
   ]
  },
  {
   "cell_type": "code",
   "execution_count": 11,
   "id": "60bb6c5c",
   "metadata": {},
   "outputs": [
    {
     "name": "stdout",
     "output_type": "stream",
     "text": [
      "1: I ate Poha today, it was very yummy.\n",
      "2: I think i need to revise my OOPS concepts \n"
     ]
    }
   ],
   "source": [
    "class PersistenceManager: \n",
    "    @staticmethod\n",
    "    def save_to_file(journal, filename):\n",
    "        file = open(filename, 'w')\n",
    "        file.write(str(journal))\n",
    "        file.close()\n",
    "\n",
    "    @staticmethod\n",
    "    def load_from_file(file_path):\n",
    "        with open(file_path, 'r') as file:\n",
    "            data = file.read()\n",
    "        return data\n",
    "\n",
    "\n",
    "file_path = \"/home/jellyfish/Desktop/System Design - Python/Solid Principles/journal.txt\"\n",
    "\n",
    "PersistenceManager.save_to_file(abhinav_journal, file_path)\n",
    "print(PersistenceManager.load_from_file(file_path))"
   ]
  },
  {
   "cell_type": "markdown",
   "id": "a41bb818",
   "metadata": {},
   "source": [
    "#### Conclusion \n",
    "\n",
    "The principle states that you don't want to overload your objects with too many responsibilities. <br>\n",
    "Now interestingly, we have something called as Anti-pattern(opposite of patterns)<br>\n",
    "Pattern are good, anti patterns are bad <br>\n",
    "\n",
    "One of anti pattern is known as the <b>God Object</b>.<br>\n",
    "\n",
    "God object is when you have defined everything in a single class only. Creating a Massive Class, very bad. <br>\n",
    "\n",
    "So the SRP principle prevents us from making god objects, it enforces the idea that a class should have a single reason to change and that change should be somehow related to its primary responsibilty. <br>\n",
    "\n",
    "Above examples before: <br>\n",
    "This Journal class handles journal management and file persistence.<br>\n",
    "\n",
    "Two reasons to change:\n",
    "- If the way we store entries changes (business rule change).<br>\n",
    "- If the file format changes (infrastructure change).<br>\n",
    "\n",
    "Now with SRP it has only one reason to change: If the way we store entries changes.\n"
   ]
  },
  {
   "cell_type": "code",
   "execution_count": null,
   "id": "ae6ac3a2",
   "metadata": {},
   "outputs": [],
   "source": []
  }
 ],
 "metadata": {
  "kernelspec": {
   "display_name": "Python 3",
   "language": "python",
   "name": "python3"
  },
  "language_info": {
   "codemirror_mode": {
    "name": "ipython",
    "version": 3
   },
   "file_extension": ".py",
   "mimetype": "text/x-python",
   "name": "python",
   "nbconvert_exporter": "python",
   "pygments_lexer": "ipython3",
   "version": "3.12.3"
  }
 },
 "nbformat": 4,
 "nbformat_minor": 5
}
