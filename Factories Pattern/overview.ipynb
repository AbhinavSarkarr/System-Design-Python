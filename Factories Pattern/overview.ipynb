{
 "cells": [
  {
   "cell_type": "markdown",
   "id": "95262552",
   "metadata": {},
   "source": [
    "# 🎯 Factories in Object-Oriented Design\n",
    "\n",
    "Factories are design patterns that focus on **object creation**.  \n",
    "They help when directly using `__init__` (the constructor) becomes **confusing or limiting**.\n",
    "\n",
    "---\n",
    "\n",
    "## 🔹 The Problem with Using `__init__` Directly\n",
    "- The constructor name is always `__init__`, which is not descriptive.\n",
    "- You cannot overload constructors with different names (unlike in some other languages).\n",
    "- Having many optional parameters can lead to **\"optional parameter hell\"**, making code hard to read and maintain.\n",
    "- Complex object creation logic clutters the class itself.\n",
    "\n",
    "---\n",
    "\n",
    "## 🔹 The Idea Behind Factories\n",
    "Instead of calling `__init__` directly, we **outsource object creation** to a *separate method or class*.  \n",
    "\n",
    "This gives:\n",
    "- Clearer names for creation methods.\n",
    "- Separation of construction logic from the object itself.\n",
    "- Easier maintenance and testing.\n",
    "\n",
    "---\n",
    "\n",
    "## 🔹 Two Main Flavors of Factories\n",
    "1. **Factory Method**\n",
    "   - A separate *method* is responsible for creating objects.\n",
    "   - Example: `Car.create_sports_car()`\n",
    "\n",
    "2. **Abstract Factory**\n",
    "   - A separate *class* (a factory class) is responsible for creating families of related objects.\n",
    "   - Example: `CarFactory.create_sedan()` or `BikeFactory.create_mountain_bike()`\n",
    "   - You can even have a **hierarchy of factories**, each specialized in producing a certain type of object.\n",
    "\n",
    "---\n",
    "\n",
    "## 🔹 Definition\n",
    "**Factory:**  \n",
    "A component responsible solely for the **wholesale (not piecewise, unlike Builder)** creation of objects.\n",
    "\n",
    "---\n",
    "\n",
    "✅ Use **Builder** when you need to construct an object step-by-step.  \n",
    "✅ Use **Factory** when you want to **outsource entire object creation at once**.\n"
   ]
  },
  {
   "cell_type": "markdown",
   "id": "b6741a8e",
   "metadata": {},
   "source": []
  }
 ],
 "metadata": {
  "language_info": {
   "name": "python"
  }
 },
 "nbformat": 4,
 "nbformat_minor": 5
}
